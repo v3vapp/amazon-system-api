{
 "cells": [
  {
   "cell_type": "code",
   "execution_count": null,
   "metadata": {},
   "outputs": [],
   "source": [
    "import pandas as pd\n",
    "main_data = \"/home/daiki/Downloads/10079880679019391.txt\"\n",
    "price_data = \"/home/daiki/Downloads/10078942795019391.txt\"\n",
    "\n",
    "df_main = pd.read_table(main_data, encoding=\"cp932\")\n",
    "df_price = pd.read_table(price_data, encoding=\"cp932\")\n",
    "\n",
    "df_main = df_main.reset_index()\n",
    "df_price = df_price.reset_index()\n",
    "\n",
    "df_price[\"total-cost\"] =df_price[\"item-price\"]+\\\n",
    "                                            df_price[\"shipping-price\"]+\\\n",
    "                                                df_price[\"item-tax\"]+\\\n",
    "                                                    df_price[\"shipping-tax\"]\n",
    "print(df_main)"
   ]
  },
  {
   "cell_type": "code",
   "execution_count": null,
   "metadata": {},
   "outputs": [],
   "source": [
    "for i, row in df_main.iterrows():\n",
    "    main_oid = row[\"order-id\"]\n",
    "\n",
    "    for ii, rowrow in df_price.iterrows():\n",
    "        price_oid = rowrow[\"order-id\"]\n",
    "\n",
    "        price = rowrow[\"total-cost\"]\n",
    "\n",
    "        if main_oid == price_oid:\n",
    "            df_main.loc[i, \"支払金額\"] = price\n",
    "\n",
    "print(df_main)\n",
    "\n",
    "df_main.to_csv(\"test.csv\")\n",
    "\n"
   ]
  }
 ],
 "metadata": {
  "kernelspec": {
   "display_name": "base",
   "language": "python",
   "name": "python3"
  },
  "language_info": {
   "codemirror_mode": {
    "name": "ipython",
    "version": 3
   },
   "file_extension": ".py",
   "mimetype": "text/x-python",
   "name": "python",
   "nbconvert_exporter": "python",
   "pygments_lexer": "ipython3",
   "version": "3.9.13"
  },
  "orig_nbformat": 4,
  "vscode": {
   "interpreter": {
    "hash": "db955dc862fe42935d8b07c208919d9b5890189e0827d69a0869703ba632454f"
   }
  }
 },
 "nbformat": 4,
 "nbformat_minor": 2
}
